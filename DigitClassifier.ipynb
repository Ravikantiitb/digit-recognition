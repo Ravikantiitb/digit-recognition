{
  "cells": [
    {
      "cell_type": "markdown",
      "metadata": {
        "id": "RwpntdihAdn_"
      },
      "source": [
        "## Importing necessary packages"
      ]
    },
    {
      "cell_type": "code",
      "execution_count": 43,
      "metadata": {
        "id": "N6t-YxBkM8eS"
      },
      "outputs": [],
      "source": [
        "import pandas as pd\n",
        "import numpy as np\n",
        "import matplotlib.pyplot as plt\n",
        "%matplotlib inline\n",
        "import tensorflow as tf\n",
        "from tensorflow import keras\n",
        "from keras import layers\n",
        "from keras.models import Sequential\n",
        "from keras.layers import Dense, Flatten\n",
        "from keras.datasets import mnist\n"
      ]
    },
    {
      "cell_type": "markdown",
      "metadata": {
        "id": "15rGNVAoJEVw"
      },
      "source": [
        "## Loading the dataset (Training and Testing data)"
      ]
    },
    {
      "cell_type": "code",
      "execution_count": 52,
      "metadata": {
        "id": "OAmYA5lHNSoS"
      },
      "outputs": [],
      "source": [
        "(X_train, y_train) , (X_test, y_test) = keras.datasets.mnist.load_data()"
      ]
    },
    {
      "cell_type": "code",
      "execution_count": 45,
      "metadata": {
        "colab": {
          "base_uri": "https://localhost:8080/"
        },
        "id": "FbRKSHdXNTJF",
        "outputId": "ddd6ec41-340b-4f9c-8071-e616d2f692d1"
      },
      "outputs": [
        {
          "name": "stdout",
          "output_type": "stream",
          "text": [
            "(60000, 28, 28)\n",
            "(60000,)\n",
            "(10000, 28, 28)\n",
            "(10000,)\n"
          ]
        }
      ],
      "source": [
        "print(X_train.shape)\n",
        "print(y_train.shape)\n",
        "print(X_test.shape)\n",
        "print(y_test.shape)\n"
      ]
    },
    {
      "cell_type": "code",
      "execution_count": 46,
      "metadata": {
        "colab": {
          "base_uri": "https://localhost:8080/"
        },
        "id": "9VWEYzHlNVIn",
        "outputId": "69efbc70-f511-498d-d094-c6be00a589e3"
      },
      "outputs": [
        {
          "name": "stdout",
          "output_type": "stream",
          "text": [
            "[[  0   0   0   0   0   0   0   0   0   0   0   0   0   0   0   0   0   0\n",
            "    0   0   0   0   0   0   0   0   0   0]\n",
            " [  0   0   0   0   0   0   0   0   0   0   0   0   0   0   0   0   0   0\n",
            "    0   0   0   0   0   0   0   0   0   0]\n",
            " [  0   0   0   0   0   0   0   0   0   0   0   0   0   0   0   0   0   0\n",
            "    0   0   0   0   0   0   0   0   0   0]\n",
            " [  0   0   0   0   0   0   0   0   0   0   0   0   0   0   0   0   0   0\n",
            "    0   0   0   0   0   0   0   0   0   0]\n",
            " [  0   0   0   0   0   0   0   0   0   0   0   0   0   0   0  51 159 253\n",
            "  159  50   0   0   0   0   0   0   0   0]\n",
            " [  0   0   0   0   0   0   0   0   0   0   0   0   0   0  48 238 252 252\n",
            "  252 237   0   0   0   0   0   0   0   0]\n",
            " [  0   0   0   0   0   0   0   0   0   0   0   0   0  54 227 253 252 239\n",
            "  233 252  57   6   0   0   0   0   0   0]\n",
            " [  0   0   0   0   0   0   0   0   0   0   0  10  60 224 252 253 252 202\n",
            "   84 252 253 122   0   0   0   0   0   0]\n",
            " [  0   0   0   0   0   0   0   0   0   0   0 163 252 252 252 253 252 252\n",
            "   96 189 253 167   0   0   0   0   0   0]\n",
            " [  0   0   0   0   0   0   0   0   0   0  51 238 253 253 190 114 253 228\n",
            "   47  79 255 168   0   0   0   0   0   0]\n",
            " [  0   0   0   0   0   0   0   0   0  48 238 252 252 179  12  75 121  21\n",
            "    0   0 253 243  50   0   0   0   0   0]\n",
            " [  0   0   0   0   0   0   0   0  38 165 253 233 208  84   0   0   0   0\n",
            "    0   0 253 252 165   0   0   0   0   0]\n",
            " [  0   0   0   0   0   0   0   7 178 252 240  71  19  28   0   0   0   0\n",
            "    0   0 253 252 195   0   0   0   0   0]\n",
            " [  0   0   0   0   0   0   0  57 252 252  63   0   0   0   0   0   0   0\n",
            "    0   0 253 252 195   0   0   0   0   0]\n",
            " [  0   0   0   0   0   0   0 198 253 190   0   0   0   0   0   0   0   0\n",
            "    0   0 255 253 196   0   0   0   0   0]\n",
            " [  0   0   0   0   0   0  76 246 252 112   0   0   0   0   0   0   0   0\n",
            "    0   0 253 252 148   0   0   0   0   0]\n",
            " [  0   0   0   0   0   0  85 252 230  25   0   0   0   0   0   0   0   0\n",
            "    7 135 253 186  12   0   0   0   0   0]\n",
            " [  0   0   0   0   0   0  85 252 223   0   0   0   0   0   0   0   0   7\n",
            "  131 252 225  71   0   0   0   0   0   0]\n",
            " [  0   0   0   0   0   0  85 252 145   0   0   0   0   0   0   0  48 165\n",
            "  252 173   0   0   0   0   0   0   0   0]\n",
            " [  0   0   0   0   0   0  86 253 225   0   0   0   0   0   0 114 238 253\n",
            "  162   0   0   0   0   0   0   0   0   0]\n",
            " [  0   0   0   0   0   0  85 252 249 146  48  29  85 178 225 253 223 167\n",
            "   56   0   0   0   0   0   0   0   0   0]\n",
            " [  0   0   0   0   0   0  85 252 252 252 229 215 252 252 252 196 130   0\n",
            "    0   0   0   0   0   0   0   0   0   0]\n",
            " [  0   0   0   0   0   0  28 199 252 252 253 252 252 233 145   0   0   0\n",
            "    0   0   0   0   0   0   0   0   0   0]\n",
            " [  0   0   0   0   0   0   0  25 128 252 253 252 141  37   0   0   0   0\n",
            "    0   0   0   0   0   0   0   0   0   0]\n",
            " [  0   0   0   0   0   0   0   0   0   0   0   0   0   0   0   0   0   0\n",
            "    0   0   0   0   0   0   0   0   0   0]\n",
            " [  0   0   0   0   0   0   0   0   0   0   0   0   0   0   0   0   0   0\n",
            "    0   0   0   0   0   0   0   0   0   0]\n",
            " [  0   0   0   0   0   0   0   0   0   0   0   0   0   0   0   0   0   0\n",
            "    0   0   0   0   0   0   0   0   0   0]\n",
            " [  0   0   0   0   0   0   0   0   0   0   0   0   0   0   0   0   0   0\n",
            "    0   0   0   0   0   0   0   0   0   0]]\n"
          ]
        }
      ],
      "source": [
        "print(X_train[1])"
      ]
    },
    {
      "cell_type": "code",
      "execution_count": 47,
      "metadata": {
        "colab": {
          "base_uri": "https://localhost:8080/",
          "height": 310
        },
        "id": "qgWMzbFuNXjK",
        "outputId": "ef26a6e8-17cf-4af0-d12a-a47ee05dc544"
      },
      "outputs": [
        {
          "name": "stdout",
          "output_type": "stream",
          "text": [
            "(28, 28)\n",
            "5\n"
          ]
        },
        {
          "data": {
            "image/png": "[encoded data removed]",
            "text/plain": [
              "<Figure size 288x288 with 1 Axes>"
            ]
          },
          "metadata": {
            "needs_background": "light"
          },
          "output_type": "display_data"
        }
      ],
      "source": [
        "plt.matshow(X_train[0])\n",
        "print(X_train[0].shape)\n",
        "print(y_train[0])\n"
      ]
    },
    {
      "attachments": {},
      "cell_type": "markdown",
      "metadata": {
        "id": "OIzua7YYJKw0"
      },
      "source": [
        "## Normalizing the data using the ```normalize``` function in the tensorflow library"
      ]
    },
    {
      "cell_type": "code",
      "execution_count": 53,
      "metadata": {
        "colab": {
          "base_uri": "https://localhost:8080/"
        },
        "id": "tgd8a16cNavp",
        "outputId": "540c8339-0ad1-4d14-a5e1-4b16fff78091"
      },
      "outputs": [
        {
          "data": {
            "text/plain": [
              "(60000, 28, 28)"
            ]
          },
          "execution_count": 53,
          "metadata": {},
          "output_type": "execute_result"
        }
      ],
      "source": [
        "X_train = tf.keras.utils.normalize(X_train, axis=1)\n",
        "X_test = tf.keras.utils.normalize(X_test, axis=1)\n",
        "\n",
        "X_train.shape"
      ]
    },
    {
      "cell_type": "markdown",
      "metadata": {
        "id": "iqxyW8-PJV1F"
      },
      "source": [
        "## Building the neural network:\n",
        "\n",
        "*   The flatten function changes the 2d numpy array of pixels of each image into a 1d numpy array which is used by the first  layer as input\n",
        "*   There are four hidden layers and one output layer in this network details of which are shown below\n",
        "\n",
        "\n",
        "\n",
        "\n",
        "| Hidden layer | Number of units | Activation Function |\n",
        "|--------------|-----------------|---------------------|\n",
        "| 1            | 128             | ReLU                |\n",
        "| 2            | 256              | ReLU                |\n",
        "| 3            | 512              | ReLU                |\n",
        "| 4            | 1024              | ReLU                |\n",
        "\n",
        "ReLU stands for Rectified Linear Unit\n",
        "\n",
        "\n",
        "\n",
        "*   The last layer has 10 units corresponding to the probability of each digit and has softmax activation\n",
        "\n",
        "\n",
        "\n"
      ]
    },
    {
      "cell_type": "code",
      "execution_count": 78,
      "metadata": {
        "id": "B8skYFNXNdAa"
      },
      "outputs": [],
      "source": [
        "model = tf.keras.models.Sequential(\n",
        "    [    \n",
        "        Flatten(),\n",
        "        Dense(units = 128, activation = 'relu'),\n",
        "        Dense(units = 256, activation = 'relu'),\n",
        "        Dense(units = 512, activation = 'relu'),\n",
        "        Dense(units = 1024, activation = 'relu'),\n",
        "        Dense(units = 10, activation = 'softmax')\n",
        "            ]\n",
        ")\n"
      ]
    },
    {
      "cell_type": "code",
      "execution_count": 82,
      "metadata": {
        "colab": {
          "base_uri": "https://localhost:8080/"
        },
        "id": "IVl9W6_LNgoV",
        "outputId": "f4aedfde-7093-471b-9955-febb61dafc75"
      },
      "outputs": [
        {
          "name": "stdout",
          "output_type": "stream",
          "text": [
            "Model: \"sequential_11\"\n",
            "_________________________________________________________________\n",
            " Layer (type)                Output Shape              Param #   \n",
            "=================================================================\n",
            " flatten_6 (Flatten)         (None, 784)               0         \n",
            "                                                                 \n",
            " dense_56 (Dense)            (None, 120)               94200     \n",
            "                                                                 \n",
            " dense_57 (Dense)            (None, 240)               29040     \n",
            "                                                                 \n",
            " dense_58 (Dense)            (None, 480)               115680    \n",
            "                                                                 \n",
            " dense_59 (Dense)            (None, 960)               461760    \n",
            "                                                                 \n",
            " dense_60 (Dense)            (None, 10)                9610      \n",
            "                                                                 \n",
            "=================================================================\n",
            "Total params: 710,290\n",
            "Trainable params: 710,290\n",
            "Non-trainable params: 0\n",
            "_________________________________________________________________\n"
          ]
        }
      ],
      "source": [
        " model.summary()"
      ]
    },
    {
      "cell_type": "code",
      "execution_count": 79,
      "metadata": {
        "colab": {
          "base_uri": "https://localhost:8080/"
        },
        "id": "raOw3O-WNkW_",
        "outputId": "6e37beb6-777c-4041-8241-ddc1fb158aac"
      },
      "outputs": [
        {
          "name": "stdout",
          "output_type": "stream",
          "text": [
            "Epoch 1/25\n",
            "1875/1875 [==============================] - 22s 12ms/step - loss: 0.2419 - accuracy: 0.9260\n",
            "Epoch 2/25\n",
            "1875/1875 [==============================] - 21s 11ms/step - loss: 0.1132 - accuracy: 0.9662\n",
            "Epoch 3/25\n",
            "1875/1875 [==============================] - 22s 12ms/step - loss: 0.0814 - accuracy: 0.9752\n",
            "Epoch 4/25\n",
            "1875/1875 [==============================] - 23s 12ms/step - loss: 0.0658 - accuracy: 0.9798\n",
            "Epoch 5/25\n",
            "1875/1875 [==============================] - 23s 12ms/step - loss: 0.0553 - accuracy: 0.9828\n",
            "Epoch 6/25\n",
            "1875/1875 [==============================] - 22s 12ms/step - loss: 0.0465 - accuracy: 0.9859\n",
            "Epoch 7/25\n",
            "1875/1875 [==============================] - 22s 12ms/step - loss: 0.0399 - accuracy: 0.9879\n",
            "Epoch 8/25\n",
            "1875/1875 [==============================] - 23s 12ms/step - loss: 0.0365 - accuracy: 0.9888\n",
            "Epoch 9/25\n",
            "1875/1875 [==============================] - 22s 12ms/step - loss: 0.0336 - accuracy: 0.9898\n",
            "Epoch 10/25\n",
            "1875/1875 [==============================] - 22s 12ms/step - loss: 0.0274 - accuracy: 0.9916\n",
            "Epoch 11/25\n",
            "1875/1875 [==============================] - 23s 12ms/step - loss: 0.0256 - accuracy: 0.9923\n",
            "Epoch 12/25\n",
            "1875/1875 [==============================] - 22s 12ms/step - loss: 0.0248 - accuracy: 0.9929\n",
            "Epoch 13/25\n",
            "1875/1875 [==============================] - 22s 12ms/step - loss: 0.0224 - accuracy: 0.9934\n",
            "Epoch 14/25\n",
            "1875/1875 [==============================] - 22s 12ms/step - loss: 0.0247 - accuracy: 0.9933\n",
            "Epoch 15/25\n",
            "1875/1875 [==============================] - 22s 12ms/step - loss: 0.0184 - accuracy: 0.9948\n",
            "Epoch 16/25\n",
            "1875/1875 [==============================] - 22s 12ms/step - loss: 0.0223 - accuracy: 0.9938\n",
            "Epoch 17/25\n",
            "1875/1875 [==============================] - 23s 12ms/step - loss: 0.0178 - accuracy: 0.9952\n",
            "Epoch 18/25\n",
            "1875/1875 [==============================] - 22s 12ms/step - loss: 0.0178 - accuracy: 0.9946\n",
            "Epoch 19/25\n",
            "1875/1875 [==============================] - 22s 12ms/step - loss: 0.0162 - accuracy: 0.9952\n",
            "Epoch 20/25\n",
            "1875/1875 [==============================] - 22s 12ms/step - loss: 0.0178 - accuracy: 0.9953\n",
            "Epoch 21/25\n",
            "1875/1875 [==============================] - 22s 12ms/step - loss: 0.0152 - accuracy: 0.9959\n",
            "Epoch 22/25\n",
            "1875/1875 [==============================] - 23s 12ms/step - loss: 0.0162 - accuracy: 0.9959\n",
            "Epoch 23/25\n",
            "1875/1875 [==============================] - 22s 12ms/step - loss: 0.0162 - accuracy: 0.9959\n",
            "Epoch 24/25\n",
            "1875/1875 [==============================] - 22s 12ms/step - loss: 0.0164 - accuracy: 0.9958\n",
            "Epoch 25/25\n",
            "1875/1875 [==============================] - 22s 11ms/step - loss: 0.0138 - accuracy: 0.9967\n"
          ]
        }
      ],
      "source": [
        "  model.compile(optimizer='adam',\n",
        "                loss='sparse_categorical_crossentropy',\n",
        "                metrics=['accuracy'])\n",
        "\n",
        "\n",
        "  m_ = model.fit(\n",
        "    X_train,y_train,\n",
        "    epochs=25)"
      ]
    },
    {
      "cell_type": "code",
      "execution_count": 80,
      "metadata": {
        "colab": {
          "base_uri": "https://localhost:8080/"
        },
        "id": "HYuXDTM8NyOq",
        "outputId": "8d7d6c9e-66aa-4adf-c3cd-95df9c6417c3"
      },
      "outputs": [
        {
          "name": "stdout",
          "output_type": "stream",
          "text": [
            "313/313 [==============================] - 2s 4ms/step - loss: 0.1391 - accuracy: 0.9791\n",
            "0.13911065459251404\n",
            "0.9790999889373779\n"
          ]
        }
      ],
      "source": [
        "loss, accuracy = model.evaluate(X_test, y_test)\n",
        "print(loss)\n",
        "print(accuracy)"
      ]
    },
    {
      "cell_type": "markdown",
      "metadata": {
        "id": "CvwZ4YTUNt9y"
      },
      "source": [
        "#### Accuracy of training set: 99.67 %\n",
        "#### Accuracy of testing set : 97.91 %"
      ]
    },
    {
      "cell_type": "code",
      "execution_count": 81,
      "metadata": {
        "colab": {
          "base_uri": "https://localhost:8080/",
          "height": 292
        },
        "id": "MSuskR-xyj4r",
        "outputId": "bd914001-c0da-4cbd-a124-efa7bea8a2d4"
      },
      "outputs": [
        {
          "name": "stdout",
          "output_type": "stream",
          "text": [
            "1\n"
          ]
        },
        {
          "data": {
            "image/png": "[encoded data removed]",
            "text/plain": [
              "<Figure size 288x288 with 1 Axes>"
            ]
          },
          "metadata": {
            "needs_background": "light"
          },
          "output_type": "display_data"
        }
      ],
      "source": [
        "plt.matshow(X_test[5])\n",
        "print(y_test[5])"
      ]
    },
    {
      "cell_type": "code",
      "execution_count": 75,
      "metadata": {
        "colab": {
          "base_uri": "https://localhost:8080/"
        },
        "id": "muWHoyVk0M5O",
        "outputId": "f9667de8-e427-4d99-dfb8-136d63b076dd"
      },
      "outputs": [
        {
          "name": "stdout",
          "output_type": "stream",
          "text": [
            "313/313 [==============================] - 1s 4ms/step\n",
            "1\n"
          ]
        }
      ],
      "source": [
        "predictions= model.predict(X_test)\n",
        "print(np.argmax(predictions[5]))"
      ]
    }
  ],
  "metadata": {
    "colab": {
      "provenance": []
    },
    "kernelspec": {
      "display_name": "Python 3",
      "name": "python3"
    },
    "language_info": {
      "name": "python"
    }
  },
  "nbformat": 4,
  "nbformat_minor": 0
}
